{
 "cells": [
  {
   "cell_type": "code",
   "execution_count": null,
   "metadata": {
    "collapsed": false
   },
   "outputs": [],
   "source": [
    "using PyPlot"
   ]
  },
  {
   "cell_type": "code",
   "execution_count": null,
   "metadata": {
    "collapsed": false
   },
   "outputs": [],
   "source": []
  },
  {
   "cell_type": "code",
   "execution_count": null,
   "metadata": {
    "collapsed": false,
    "scrolled": false
   },
   "outputs": [],
   "source": [
    "\"\"\"\n",
    "Complete routine.\n",
    "\n",
    "# Arguments\n",
    "* `GoL::Array{Bool,2}`: initial state of the grid\n",
    "* `runs`: number of generations to calculate\n",
    "* `sleepTime`: the number of seconds to wait between two succeessive frames\n",
    "* `safeToDisk`: if True, safe images in the 'GoLpics' folder. VERY SLOW!\n",
    "* `showOnConsole`: if True, use Python image to show the world. DOES NOT WORK IN JUPYTER\n",
    "\"\"\"\n",
    "function runGoL(GoL=nothing; runs=100, sleepTime=0.01, safeToDisk=false, showOnConsole=true)\n",
    "    # mask for convolution\n",
    "    Mfilt = [true true  true; true  false  true; true true true]\n",
    "    \n",
    "    if GoL == nothing\n",
    "        GoL = rand(Bool,500,500) # generate random world\n",
    "    end\n",
    "    \n",
    "    # initiate output image\n",
    "    plt[:axis](\"off\")\n",
    "    im = plt[:imshow](GoL, interpolation=\"none\")\n",
    "    \n",
    "    for i_gen = 1:runs\n",
    "        convGoL = conv2(GoL, Mfilt) # result is of type Array{Int, 2}\n",
    "        lives2 = convGoL .== 2\n",
    "        lives3 = convGoL .== 3\n",
    "\n",
    "        twoLiveNeig = (GoL & lives2[2:end-1,2:end-1]) # boolean AND\n",
    "        GoL = twoLiveNeig | lives3[2:end-1,2:end-1]   # boolean OR\n",
    "        \n",
    "        if safeToDisk\n",
    "            imgplot = imshow(GoL, interpolation=\"none\")\n",
    "            savefig(\"GoLpics/gen$i_gen.png\")\n",
    "        end\n",
    "        \n",
    "        if showOnConsole\n",
    "            im[:set_data](GoL) # update frame\n",
    "            plt[:draw]()\n",
    "            sleep(sleepTime)\n",
    "        end\n",
    "    end\n",
    "end"
   ]
  },
  {
   "cell_type": "code",
   "execution_count": null,
   "metadata": {
    "collapsed": false
   },
   "outputs": [],
   "source": [
    "# start the whole thing!\n",
    "runGoL(nothing)"
   ]
  },
  {
   "cell_type": "code",
   "execution_count": null,
   "metadata": {
    "collapsed": false
   },
   "outputs": [],
   "source": []
  },
  {
   "cell_type": "code",
   "execution_count": null,
   "metadata": {
    "collapsed": false
   },
   "outputs": [],
   "source": []
  },
  {
   "cell_type": "code",
   "execution_count": null,
   "metadata": {
    "collapsed": true
   },
   "outputs": [],
   "source": []
  }
 ],
 "metadata": {
  "kernelspec": {
   "display_name": "Julia 0.5.2-pre",
   "language": "julia",
   "name": "julia-0.5"
  },
  "language_info": {
   "file_extension": ".jl",
   "mimetype": "application/julia",
   "name": "julia",
   "version": "0.5.2"
  }
 },
 "nbformat": 4,
 "nbformat_minor": 0
}
